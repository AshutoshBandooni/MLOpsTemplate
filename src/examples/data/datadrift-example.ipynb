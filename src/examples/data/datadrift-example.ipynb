{
  "cells": [
    {
      "cell_type": "markdown",
      "metadata": {},
      "source": [
        "Copyright (c) Microsoft Corporation. All rights reserved.\n",
        "\n",
        "Licensed under the MIT License."
      ]
    },
    {
      "cell_type": "markdown",
      "metadata": {},
      "source": [
        "![Impressions](https://PixelServer20190423114238.azurewebsites.net/api/impressions/MachineLearningNotebooks/how-to-use-azureml/work-with-data/datadrift-tutorial/datadrift-quickdemo.png)"
      ]
    },
    {
      "cell_type": "markdown",
      "metadata": {},
      "source": [
        "# Analyze data drift in Azure Machine Learning datasets \n",
        "\n",
        "In this tutorial, you will setup a data drift monitor on a weather dataset to:\n",
        "\n",
        "&#x2611; Analyze historical data for drift\n",
        "\n",
        "&#x2611; Setup a monitor to recieve email alerts if data drift is detected going forward\n",
        "\n",
        "If your workspace is Enterprise level, view and exlpore the results in the Azure Machine Learning studio. The video below shows the results from this tutorial. \n",
        "\n",
        "![gif](media/video.gif)"
      ]
    },
    {
      "cell_type": "markdown",
      "metadata": {},
      "source": [
        "## Prerequisites\n",
        "If you are using an Azure Machine Learning Compute instance, you are all set. Otherwise, go through the [configuration notebook](../../../configuration.ipynb) if you haven't already established your connection to the AzureML Workspace."
      ]
    },
    {
      "cell_type": "code",
      "execution_count": 1,
      "metadata": {},
      "outputs": [
        {
          "name": "stderr",
          "output_type": "stream",
          "text": [
            "Failure while loading azureml_run_type_providers. Failed to load entrypoint hyperdrive = azureml.train.hyperdrive:HyperDriveRun._from_run_dto with exception (msrest 0.6.18 (c:\\users\\janguy\\anaconda3\\envs\\dlresearch\\lib\\site-packages), Requirement.parse('msrest>=0.6.21'), {'azure-mgmt-storage', 'azure-mgmt-resource', 'azure-mgmt-containerregistry'}).\n",
            "Failure while loading azureml_run_type_providers. Failed to load entrypoint automl = azureml.train.automl.run:AutoMLRun._from_run_dto with exception (msrest 0.6.18 (c:\\users\\janguy\\anaconda3\\envs\\dlresearch\\lib\\site-packages), Requirement.parse('msrest>=0.6.21'), {'azure-mgmt-storage', 'azure-mgmt-resource', 'azure-mgmt-containerregistry'}).\n",
            "Failure while loading azureml_run_type_providers. Failed to load entrypoint azureml.PipelineRun = azureml.pipeline.core.run:PipelineRun._from_dto with exception (msrest 0.6.18 (c:\\users\\janguy\\anaconda3\\envs\\dlresearch\\lib\\site-packages), Requirement.parse('msrest>=0.6.21'), {'azure-mgmt-storage', 'azure-mgmt-resource', 'azure-mgmt-containerregistry'}).\n",
            "Failure while loading azureml_run_type_providers. Failed to load entrypoint azureml.ReusedStepRun = azureml.pipeline.core.run:StepRun._from_reused_dto with exception (msrest 0.6.18 (c:\\users\\janguy\\anaconda3\\envs\\dlresearch\\lib\\site-packages), Requirement.parse('msrest>=0.6.21'), {'azure-mgmt-storage', 'azure-mgmt-resource', 'azure-mgmt-containerregistry'}).\n",
            "Failure while loading azureml_run_type_providers. Failed to load entrypoint azureml.StepRun = azureml.pipeline.core.run:StepRun._from_dto with exception (msrest 0.6.18 (c:\\users\\janguy\\anaconda3\\envs\\dlresearch\\lib\\site-packages), Requirement.parse('msrest>=0.6.21'), {'azure-mgmt-storage', 'azure-mgmt-resource', 'azure-mgmt-containerregistry'}).\n",
            "Failure while loading azureml_run_type_providers. Failed to load entrypoint azureml.scriptrun = azureml.core.script_run:ScriptRun._from_run_dto with exception (msrest 0.6.18 (c:\\users\\janguy\\anaconda3\\envs\\dlresearch\\lib\\site-packages), Requirement.parse('msrest>=0.6.21'), {'azure-mgmt-storage', 'azure-mgmt-resource', 'azure-mgmt-containerregistry'}).\n"
          ]
        },
        {
          "name": "stdout",
          "output_type": "stream",
          "text": [
            "SDK version: 1.38.0\n"
          ]
        }
      ],
      "source": [
        "# Check core SDK version number\n",
        "import azureml.core\n",
        "\n",
        "print('SDK version:', azureml.core.VERSION)"
      ]
    },
    {
      "cell_type": "markdown",
      "metadata": {},
      "source": [
        "## Initialize Workspace\n",
        "\n",
        "Initialize a workspace object from persisted configuration."
      ]
    },
    {
      "cell_type": "code",
      "execution_count": 2,
      "metadata": {},
      "outputs": [
        {
          "name": "stdout",
          "output_type": "stream",
          "text": [
            "Performing interactive authentication. Please follow the instructions on the terminal.\n"
          ]
        },
        {
          "name": "stderr",
          "output_type": "stream",
          "text": [
            "The default web browser has been opened at https://login.microsoftonline.com/72f988bf-86f1-41af-91ab-2d7cd011db47/oauth2/v2.0/authorize. Please continue the login in the web browser. If no web browser is available or if the web browser fails to open, use device code flow with `az login --use-device-code`.\n"
          ]
        },
        {
          "name": "stdout",
          "output_type": "stream",
          "text": [
            "Interactive authentication successfully completed.\n"
          ]
        },
        {
          "data": {
            "text/plain": [
              "Workspace.create(name='ws01ent', subscription_id='0e9bace8-7a81-4922-83b5-d995ff706507', resource_group='azureml')"
            ]
          },
          "execution_count": 2,
          "metadata": {},
          "output_type": "execute_result"
        }
      ],
      "source": [
        "from azureml.core import Workspace\n",
        "from azureml.core.authentication import InteractiveLoginAuthentication\n",
        "auth = InteractiveLoginAuthentication(force=True, tenant_id='72f988bf-86f1-41af-91ab-2d7cd011db47')\n",
        "\n",
        "ws = Workspace(subscription_id='0e9bace8-7a81-4922-83b5-d995ff706507',workspace_name='ws01ent',resource_group= \"azureml\",auth=auth)\n",
        "ws"
      ]
    },
    {
      "cell_type": "markdown",
      "metadata": {},
      "source": [
        "## Setup target and baseline datasets\n",
        "\n",
        "Setup the baseline and target datasets. The baseline will be used to compare each time slice of the target dataset, which is sampled by a given frequency. For further details, see [our documentation](http://aka.ms/datadrift). \n",
        "\n",
        "The next few cells will:\n",
        "  * get the default datastore\n",
        "  * upload the `weather-data` to the datastore\n",
        "  * create the Tabular dataset from the data\n",
        "  * add the timeseries trait by specifying the timestamp column `datetime`\n",
        "  * register the dataset\n",
        "  * create the baseline as a time slice of the target dataset\n",
        "  * optionally, register the baseline dataset\n",
        "  \n",
        "The folder `weather-data` contains weather data from the [NOAA Integrated Surface Data](https://azure.microsoft.com/services/open-datasets/catalog/noaa-integrated-surface-data/) filtered down to to station names containing the string 'FLORIDA' to reduce the size of data. See `get_data.py` to see how this data is curated and modify as desired. This script may take a long time to run, hence the data is provided in the `weather-data` folder for this demo."
      ]
    },
    {
      "cell_type": "code",
      "execution_count": 3,
      "metadata": {},
      "outputs": [],
      "source": [
        "# use default datastore\n",
        "dstore = ws.datastores['mltraining']"
      ]
    },
    {
      "cell_type": "code",
      "execution_count": null,
      "metadata": {},
      "outputs": [],
      "source": [
        "# upload weather data\n",
        "dstore.upload('weather-data', 'datadrift-data', overwrite=True, show_progress=True)"
      ]
    },
    {
      "cell_type": "code",
      "execution_count": 55,
      "metadata": {},
      "outputs": [],
      "source": [
        "# import Dataset class\n",
        "from azureml.core import Dataset\n",
        "\n",
        "# # create target dataset \n",
        "target = Dataset.Tabular.from_parquet_files(dstore.path('datadrift/weather/target/**/*.parquet'))\n",
        "baseline = Dataset.Tabular.from_parquet_files(dstore.path('datadrift/weather/baseline/**/*.parquet'))\n",
        "\n",
        "# # set the timestamp column\n",
        "target = target.with_timestamp_columns('datetime')\n",
        "baseline = baseline.with_timestamp_columns('datetime')\n",
        "\n",
        "# # register the target dataset\n",
        "target = target.register(ws, 'weather_target')\n",
        "baseline = baseline.register(ws, 'weather_baseline')\n",
        "\n",
        "# retrieve the dataset from the workspace by name\n",
        "# target = Dataset.get_by_name(ws, 'weather_target')\n",
        "# baseline = Dataset.get_by_name(ws, 'weather_baseline')"
      ]
    },
    {
      "cell_type": "code",
      "execution_count": null,
      "metadata": {},
      "outputs": [],
      "source": [
        "# optionally, register the baseline dataset. if skipped, an unregistered dataset will be used\n",
        "#baseline = baseline.register(ws, 'baseline')"
      ]
    },
    {
      "cell_type": "markdown",
      "metadata": {},
      "source": [
        "## Create compute target\n",
        "\n",
        "> Note that if you have an AzureML Data Scientist role, you will not have permission to create compute resources. Talk to your workspace or IT admin to create the compute targets described in this section, if they do not already exist.\n",
        "\n",
        "Create an Azure Machine Learning compute cluster to run the data drift monitor and associated runs. The below cell will create a compute cluster named `'cpu-cluster'`. "
      ]
    },
    {
      "cell_type": "code",
      "execution_count": 6,
      "metadata": {},
      "outputs": [
        {
          "name": "stderr",
          "output_type": "stream",
          "text": [
            "WARNING - Class SynapseCompute: This is an experimental class, and may change at any time. Please see https://aka.ms/azuremlexperimental for more information.\n",
            "WARNING - Class SynapseCompute: This is an experimental class, and may change at any time. Please see https://aka.ms/azuremlexperimental for more information.\n",
            "WARNING - Class SynapseCompute: This is an experimental class, and may change at any time. Please see https://aka.ms/azuremlexperimental for more information.\n",
            "WARNING - Class SynapseCompute: This is an experimental class, and may change at any time. Please see https://aka.ms/azuremlexperimental for more information.\n"
          ]
        },
        {
          "name": "stdout",
          "output_type": "stream",
          "text": [
            "found compute target. just use it. d15-v2\n"
          ]
        }
      ],
      "source": [
        "from azureml.core.compute import AmlCompute, ComputeTarget\n",
        "\n",
        "compute_name = 'd15-v2'\n",
        "\n",
        "if compute_name in ws.compute_targets:\n",
        "    compute_target = ws.compute_targets[compute_name]\n",
        "    if compute_target and type(compute_target) is AmlCompute:\n",
        "        print('found compute target. just use it. ' + compute_name)\n",
        "else:\n",
        "    print('creating a new compute target...')\n",
        "    provisioning_config = AmlCompute.provisioning_configuration(vm_size='STANDARD_D3_V2', min_nodes=0, max_nodes=2)\n",
        "\n",
        "    # create the cluster\n",
        "    compute_target = ComputeTarget.create(ws, compute_name, provisioning_config)\n",
        "\n",
        "    # can poll for a minimum number of nodes and for a specific timeout.\n",
        "    # if no min node count is provided it will use the scale settings for the cluster\n",
        "    compute_target.wait_for_completion(show_output=True, min_node_count=None, timeout_in_minutes=20)\n",
        "\n",
        "    # For a more detailed view of current AmlCompute status, use get_status()\n",
        "    print(compute_target.get_status().serialize())"
      ]
    },
    {
      "cell_type": "markdown",
      "metadata": {},
      "source": [
        "## Create data drift monitor\n",
        "\n",
        "See [our documentation](http://aka.ms/datadrift) for a complete description for all of the parameters. "
      ]
    },
    {
      "cell_type": "code",
      "execution_count": 74,
      "metadata": {
        "tags": [
          "datadrift-remarks-sample"
        ]
      },
      "outputs": [
        {
          "name": "stderr",
          "output_type": "stream",
          "text": [
            "WARNING - Class SynapseCompute: This is an experimental class, and may change at any time. Please see https://aka.ms/azuremlexperimental for more information.\n",
            "WARNING - Class SynapseCompute: This is an experimental class, and may change at any time. Please see https://aka.ms/azuremlexperimental for more information.\n",
            "WARNING - Class SynapseCompute: This is an experimental class, and may change at any time. Please see https://aka.ms/azuremlexperimental for more information.\n",
            "WARNING - Class SynapseCompute: This is an experimental class, and may change at any time. Please see https://aka.ms/azuremlexperimental for more information.\n",
            "WARNING - Class SynapseCompute: This is an experimental class, and may change at any time. Please see https://aka.ms/azuremlexperimental for more information.\n",
            "WARNING - Class SynapseCompute: This is an experimental class, and may change at any time. Please see https://aka.ms/azuremlexperimental for more information.\n",
            "WARNING - Class SynapseCompute: This is an experimental class, and may change at any time. Please see https://aka.ms/azuremlexperimental for more information.\n",
            "WARNING - Class SynapseCompute: This is an experimental class, and may change at any time. Please see https://aka.ms/azuremlexperimental for more information.\n",
            "WARNING - Class SynapseCompute: This is an experimental class, and may change at any time. Please see https://aka.ms/azuremlexperimental for more information.\n",
            "WARNING - Class SynapseCompute: This is an experimental class, and may change at any time. Please see https://aka.ms/azuremlexperimental for more information.\n",
            "WARNING - Class SynapseCompute: This is an experimental class, and may change at any time. Please see https://aka.ms/azuremlexperimental for more information.\n",
            "WARNING - Class SynapseCompute: This is an experimental class, and may change at any time. Please see https://aka.ms/azuremlexperimental for more information.\n"
          ]
        }
      ],
      "source": [
        "from azureml.datadrift import DataDriftDetector, AlertConfiguration\n",
        "\n",
        "alert_config = AlertConfiguration(['user@contoso.com']) # replace with your email to recieve alerts from the scheduled pipeline after enabling\n",
        "monitor = DataDriftDetector.create_from_datasets(ws, 'daily_weather-monitor', baseline, target, \n",
        "                                                      compute_target='d15-v2',         # compute target for scheduled pipeline and backfills \n",
        "                                                      frequency='Day',                     # how often to analyze target data\n",
        "                                                      feature_list=None,                    # list of features to detect drift on\n",
        "                                                      drift_threshold=0.1,                 # threshold from 0 to 1 for email alerting\n",
        "                                                      latency=0,                            # SLA in hours for target data to arrive in the dataset\n",
        "                                                      alert_config=alert_config)            # email addresses to send alert"
      ]
    },
    {
      "cell_type": "markdown",
      "metadata": {},
      "source": [
        "## Update data drift monitor\n",
        "\n",
        "Many settings of the data drift monitor can be updated after creation. In this demo, we will update the `drift_threshold` and `feature_list`. See [our documentation](http://aka.ms/datadrift) for details on which settings can be changed."
      ]
    },
    {
      "cell_type": "code",
      "execution_count": 75,
      "metadata": {},
      "outputs": [
        {
          "name": "stdout",
          "output_type": "stream",
          "text": [
            "Current state: Disabled\n",
            "2022-02-07 17:35:56,850 - azureml.datadrift._logging._telemetry_logger.azureml.datadrift.datadriftdetector - WARNING - Alert has not been setup. Datadriftdetector with id: dbe31262-a035-4e47-a5f0-1359ac070a0a.\n",
            "This may be because you do not have access to the AppInsights associated with this AzureML Workspace - activity_id:4accde34-272c-4ba9-a4c9-7a0fa385d104 activity_name:update activity_type:InternalCall tenant_id:72f988bf-86f1-41af-91ab-2d7cd011db47 subscription_id:0e9bace8-7a81-4922-83b5-d995ff706507 resource_group:azureml workspace_id:a167f0bb-0065-4d78-b243-08199690f916 workspace_location:westus2 compute_type:None compute_size:None compute_nodes_min:None compute_nodes_max:None image_id:None dd_id:dbe31262-a035-4e47-a5f0-1359ac070a0a dd_type:DatasetBased freq:Day interval:1 scheduling:Disabled threshold:None latency:0 total_features:0 services:None train_dataset_id:None baseline_dataset_id:4a29f419-d27b-4d52-8e52-c80a6fb32a2b target_dataset_id:c041fd97-f6a9-4039-baa1-35cea41b6526 log_env:sdk client telemetry_event_id:58b2a346-516e-4422-b866-586c2ecebeba new_total_features:18 sdk_version:1.38.0 telemetry_component_name:azureml.datadrift\n"
          ]
        },
        {
          "name": "stderr",
          "output_type": "stream",
          "text": [
            "C:\\Users\\janguy\\Anaconda3\\envs\\dlresearch\\lib\\site-packages\\azureml\\datadrift\\datadriftdetector.py:1371: UserWarning: Alert has not been setup. Datadriftdetector with id: dbe31262-a035-4e47-a5f0-1359ac070a0a.\n",
            "This may be because you do not have access to the AppInsights associated with this AzureML Workspace\n",
            "  warnings.warn(error_msg)\n"
          ]
        }
      ],
      "source": [
        "# get monitor by name\n",
        "monitor = DataDriftDetector.get_by_name(ws, 'daily_weather-monitor')\n",
        "\n",
        "# create feature list - need to exclude columns that naturally drift or increment over time, such as year, day, index\n",
        "columns  = list(baseline.take(1).to_pandas_dataframe())\n",
        "exclude  = ['year', 'day', 'version', 'p_k']\n",
        "features = [col for col in columns if col not in exclude]\n",
        "\n",
        "# update the feature list\n",
        "monitor  = monitor.update(feature_list=features)"
      ]
    },
    {
      "cell_type": "markdown",
      "metadata": {},
      "source": [
        "## Analyze historical data and backfill\n",
        "\n",
        "You can use the `backfill` method to:\n",
        "  * analyze historical data\n",
        "  * backfill metrics after updating the settings (mainly the feature list)\n",
        "  * backfill metrics for failed runs\n",
        "  \n",
        "The below cells will run two backfills that will produce data drift results for 2019 weather data, with January used as the baseline in the monitor. The output can be seen from the `show` method after the runs have completed, or viewed from the Azure Machine Learning studio for Enterprise workspaces.\n",
        "\n",
        "![Drift results](media/drift-results.png)"
      ]
    },
    {
      "cell_type": "markdown",
      "metadata": {
        "jupyter": {
          "source_hidden": true
        }
      },
      "source": [
        ">**Tip!** When starting with the data drift capability, start by backfilling on a small section of data to get initial results. Update the feature list as needed by removing columns that are causing drift, but can be ignored, and backfill this section of data until satisfied with the results. Then, backfill on a larger slice of data and/or set the alert configuration, threshold, and enable the schedule to recieve alerts to drift on your dataset. All of this can be done through the UI (Enterprise) or Python SDK."
      ]
    },
    {
      "cell_type": "markdown",
      "metadata": {},
      "source": [
        "Although it depends on many factors, the below backfill should typically take less than 20 minutes to run. Results will show as soon as they become available, not when the backfill is completed, so you may begin to see some metrics in a few minutes."
      ]
    },
    {
      "cell_type": "code",
      "execution_count": 77,
      "metadata": {},
      "outputs": [
        {
          "data": {
            "text/html": [
              "<table style=\"width:100%\"><tr><th>Experiment</th><th>Id</th><th>Type</th><th>Status</th><th>Details Page</th><th>Docs Page</th></tr><tr><td>daily_weather-monitor-Monitor-Runs</td><td>daily_weather-monitor-Monitor-Runs_1644289359424</td><td>DatasetDriftRunBackFill</td><td>Preparing</td><td><a href=\"https://ml.azure.com/runs/daily_weather-monitor-Monitor-Runs_1644289359424?wsid=/subscriptions/0e9bace8-7a81-4922-83b5-d995ff706507/resourcegroups/azureml/workspaces/ws01ent&amp;tid=72f988bf-86f1-41af-91ab-2d7cd011db47\" target=\"_blank\" rel=\"noopener\">Link to Azure Machine Learning studio</a></td><td><a href=\"https://docs.microsoft.com/en-us/python/api/azureml-core/azureml.core.run.Run?view=azure-ml-py\" target=\"_blank\" rel=\"noopener\">Link to Documentation</a></td></tr></table>"
            ],
            "text/plain": [
              "Run(Experiment: daily_weather-monitor-Monitor-Runs,\n",
              "Id: daily_weather-monitor-Monitor-Runs_1644289359424,\n",
              "Type: DatasetDriftRunBackFill,\n",
              "Status: Preparing)"
            ]
          },
          "execution_count": 77,
          "metadata": {},
          "output_type": "execute_result"
        }
      ],
      "source": [
        "# backfill for one month\n",
        "backfill_start_date = datetime(2010, 2, 5)\n",
        "backfill_end_date = datetime(2010, 2, 6)\n",
        "backfill = monitor.backfill(backfill_start_date, backfill_end_date)\n",
        "backfill"
      ]
    },
    {
      "cell_type": "markdown",
      "metadata": {},
      "source": [
        "## Query metrics and show results in Python\n",
        "\n",
        "The below cell will plot some key data drift metrics, and can be used to query the results. Run `help(monitor.get_output)` for specifics on the object returned."
      ]
    },
    {
      "cell_type": "code",
      "execution_count": 76,
      "metadata": {},
      "outputs": [
        {
          "data": {
            "text/plain": [
              "{'runId': 'daily_weather-monitor2-Monitor-Runs_1644263147870',\n",
              " 'target': 'd15-v2',\n",
              " 'status': 'Completed',\n",
              " 'startTimeUtc': '2022-02-07T19:47:52.717016Z',\n",
              " 'endTimeUtc': '2022-02-07T19:55:50.251709Z',\n",
              " 'services': {},\n",
              " 'properties': {'_azureml.ComputeTargetType': 'amlcompute',\n",
              "  'ContentSnapshotId': 'f3ca082a-c079-45e3-b524-872ed3bbd4dc',\n",
              "  'ProcessInfoFile': 'azureml-logs/process_info.json',\n",
              "  'ProcessStatusFile': 'azureml-logs/process_status.json'},\n",
              " 'inputDatasets': [{'dataset': {'id': '4a29f419-d27b-4d52-8e52-c80a6fb32a2b'}, 'consumptionDetails': {'type': 'Reference'}}, {'dataset': {'id': 'c041fd97-f6a9-4039-baa1-35cea41b6526'}, 'consumptionDetails': {'type': 'Reference'}}],\n",
              " 'outputDatasets': [],\n",
              " 'runDefinition': {'script': '_generate_script_datasets.py',\n",
              "  'useAbsolutePath': False,\n",
              "  'arguments': ['--baseline_dataset_id',\n",
              "   '4a29f419-d27b-4d52-8e52-c80a6fb32a2b',\n",
              "   '--target_dataset_id',\n",
              "   'c041fd97-f6a9-4039-baa1-35cea41b6526',\n",
              "   '--workspace_name',\n",
              "   'ws01ent',\n",
              "   '--workspace_location',\n",
              "   'westus2',\n",
              "   '--instrumentation_key',\n",
              "   '49a9beb2-ac91-47f0-a52e-6080a4ede20f',\n",
              "   '--ai_endpoint',\n",
              "   'https://dc.applicationinsights.azure.com/v2/track',\n",
              "   '--subscription_id',\n",
              "   '0e9bace8-7a81-4922-83b5-d995ff706507',\n",
              "   '--enable_metric_logger',\n",
              "   'true',\n",
              "   '--run_type',\n",
              "   'BackFill',\n",
              "   '--drift_threshold',\n",
              "   '0',\n",
              "   '--datadrift_id',\n",
              "   '8a8ba0a4-2cbe-40ba-a9ac-8b4f77067b94',\n",
              "   '--datadrift_run_id',\n",
              "   'de8929dd-55af-43ee-b60e-120b9da4cd4d',\n",
              "   '--datadrift_name',\n",
              "   'daily_weather-monitor2',\n",
              "   '--frequency',\n",
              "   'Day',\n",
              "   '--datadrift_configuration_type',\n",
              "   'DatasetBased',\n",
              "   '--start_date',\n",
              "   '2010-02-05',\n",
              "   '--end_date',\n",
              "   '2010-02-07',\n",
              "   '--features_whitelist',\n",
              "   'usaf',\n",
              "   'wban',\n",
              "   'datetime',\n",
              "   'latitude',\n",
              "   'longitude',\n",
              "   'elevation',\n",
              "   'windAngle',\n",
              "   'windSpeed',\n",
              "   'temperature',\n",
              "   'seaLvlPressure',\n",
              "   'cloudCoverage',\n",
              "   'presentWeatherIndicator',\n",
              "   'pastWeatherIndicator',\n",
              "   'precipTime',\n",
              "   'precipDepth',\n",
              "   'snowDepth',\n",
              "   'stationName',\n",
              "   'countryOrRegion'],\n",
              "  'sourceDirectoryDataStore': None,\n",
              "  'framework': 'Python',\n",
              "  'communicator': 'None',\n",
              "  'target': 'd15-v2',\n",
              "  'dataReferences': {},\n",
              "  'data': {},\n",
              "  'outputData': {},\n",
              "  'datacaches': [],\n",
              "  'jobName': None,\n",
              "  'maxRunDurationSeconds': None,\n",
              "  'nodeCount': 1,\n",
              "  'instanceTypes': [],\n",
              "  'priority': None,\n",
              "  'credentialPassthrough': False,\n",
              "  'identity': None,\n",
              "  'environment': {'name': 'Experiment daily_weather-monitor2-Monitor-Runs Environment',\n",
              "   'version': 'Autosave_2022-02-07T19:21:19Z_ebbb9c53',\n",
              "   'python': {'interpreterPath': 'python',\n",
              "    'userManagedDependencies': False,\n",
              "    'condaDependencies': {'dependencies': ['python=3.6.2',\n",
              "      'scikit-learn',\n",
              "      'scipy>=1.0.0',\n",
              "      'numpy',\n",
              "      'lightgbm<=3.1.0',\n",
              "      'pandas',\n",
              "      'pyarrow>=0.11.0',\n",
              "      'jsonpickle',\n",
              "      'psutil',\n",
              "      {'pip': ['azureml-defaults==1.37.0', 'azureml-datadrift==1.37.0']}],\n",
              "     'name': 'azureml_6b0c608f73926ce187cba237b69e7fe3'},\n",
              "    'baseCondaEnvironment': None},\n",
              "   'environmentVariables': {},\n",
              "   'docker': {'baseImage': 'mcr.microsoft.com/azureml/openmpi4.1.0-ubuntu20.04',\n",
              "    'platform': {'os': 'Linux', 'architecture': 'amd64'},\n",
              "    'baseDockerfile': None,\n",
              "    'baseImageRegistry': {'address': None,\n",
              "     'username': None,\n",
              "     'password': None}},\n",
              "   'spark': {'repositories': [], 'packages': [], 'precachePackages': True},\n",
              "   'inferencingStackVersion': None},\n",
              "  'history': {'outputCollection': True,\n",
              "   'directoriesToWatch': None,\n",
              "   'enableMLflowTracking': False},\n",
              "  'spark': {'configuration': {}},\n",
              "  'parallelTask': {'maxRetriesPerWorker': 0,\n",
              "   'workerCountPerNode': 1,\n",
              "   'terminalExitCodes': None,\n",
              "   'configuration': {}},\n",
              "  'amlCompute': {'name': None,\n",
              "   'vmSize': None,\n",
              "   'retainCluster': False,\n",
              "   'clusterMaxNodeCount': 1},\n",
              "  'aiSuperComputer': {'instanceType': 'D2',\n",
              "   'imageVersion': 'pytorch-1.7.0',\n",
              "   'location': None,\n",
              "   'aiSuperComputerStorageData': None,\n",
              "   'interactive': False,\n",
              "   'scalePolicy': None,\n",
              "   'virtualClusterArmId': None,\n",
              "   'tensorboardLogDirectory': None,\n",
              "   'sshPublicKey': None,\n",
              "   'sshPublicKeys': None,\n",
              "   'enableAzmlInt': True,\n",
              "   'priority': 'Medium',\n",
              "   'slaTier': 'Standard',\n",
              "   'userAlias': None},\n",
              "  'kubernetesCompute': {'instanceType': None},\n",
              "  'tensorflow': {'workerCount': 0, 'parameterServerCount': 0},\n",
              "  'mpi': {'processCountPerNode': 0},\n",
              "  'pyTorch': {'communicationBackend': None, 'processCount': None},\n",
              "  'hdi': {'yarnDeployMode': 'None'},\n",
              "  'containerInstance': {'region': None, 'cpuCores': 2.0, 'memoryGb': 3.5},\n",
              "  'exposedPorts': None,\n",
              "  'docker': {'useDocker': True,\n",
              "   'sharedVolumes': True,\n",
              "   'shmSize': '2g',\n",
              "   'arguments': []},\n",
              "  'cmk8sCompute': {'configuration': {}},\n",
              "  'commandReturnCodeConfig': {'returnCode': 'Zero',\n",
              "   'successfulReturnCodes': []},\n",
              "  'environmentVariables': {},\n",
              "  'applicationEndpoints': {},\n",
              "  'parameters': []},\n",
              " 'logFiles': {},\n",
              " 'submittedBy': 'James Nguyen'}"
            ]
          },
          "execution_count": 76,
          "metadata": {},
          "output_type": "execute_result"
        }
      ],
      "source": [
        "# make sure the backfill has completed\n",
        "backfill.wait_for_completion(wait_post_processing=True)"
      ]
    },
    {
      "cell_type": "code",
      "execution_count": 70,
      "metadata": {},
      "outputs": [],
      "source": [
        "# get results from Python SDK (wait for backfills or monitor runs to finish)\n",
        "results, metrics = monitor.get_output(start_time=datetime(year=2010, month=2, day=6))"
      ]
    },
    {
      "cell_type": "code",
      "execution_count": 71,
      "metadata": {},
      "outputs": [
        {
          "data": {
            "text/plain": [
              "{'daily_weather-monitor2': <Figure size 1440x576 with 2 Axes>}"
            ]
          },
          "execution_count": 71,
          "metadata": {},
          "output_type": "execute_result"
        },
        {
          "data": {
            "image/png": "[encoded data removed]",
            "text/plain": [
              "<Figure size 1440x576 with 2 Axes>"
            ]
          },
          "metadata": {
            "needs_background": "light"
          },
          "output_type": "display_data"
        }
      ],
      "source": [
        "# plot the results from Python SDK \n",
        "monitor.show(backfill_start_date, backfill_end_date)"
      ]
    },
    {
      "cell_type": "markdown",
      "metadata": {},
      "source": [
        "## Enable the monitor's pipeline schedule\n",
        "\n",
        "Turn on a scheduled pipeline which will anlayze the target dataset for drift every `frequency`. Use the latency parameter to adjust the start time of the pipeline. For instance, if it takes 24 hours for my data processing pipelines for data to arrive in the target dataset, set latency to 24. "
      ]
    },
    {
      "cell_type": "code",
      "execution_count": null,
      "metadata": {},
      "outputs": [],
      "source": [
        "# enable the pipeline schedule and recieve email alerts\n",
        "monitor.enable_schedule()\n",
        "\n",
        "# disable the pipeline schedule \n",
        "#monitor.disable_schedule()"
      ]
    },
    {
      "cell_type": "code",
      "execution_count": 38,
      "metadata": {},
      "outputs": [
        {
          "ename": "AttributeError",
          "evalue": "can't set attribute",
          "output_type": "error",
          "traceback": [
            "\u001b[1;31m---------------------------------------------------------------------------\u001b[0m",
            "\u001b[1;31mAttributeError\u001b[0m                            Traceback (most recent call last)",
            "\u001b[1;32m<ipython-input-38-0e76b5e0c28a>\u001b[0m in \u001b[0;36m<module>\u001b[1;34m\u001b[0m\n\u001b[1;32m----> 1\u001b[1;33m \u001b[0mmonitor\u001b[0m\u001b[1;33m.\u001b[0m\u001b[0mbaseline_dataset\u001b[0m \u001b[1;33m=\u001b[0m\u001b[0mbaseline\u001b[0m\u001b[1;33m\u001b[0m\u001b[1;33m\u001b[0m\u001b[0m\n\u001b[0m",
            "\u001b[1;31mAttributeError\u001b[0m: can't set attribute"
          ]
        }
      ],
      "source": []
    },
    {
      "cell_type": "markdown",
      "metadata": {},
      "source": [
        "## Delete compute target\n",
        "\n",
        "Do not delete the compute target if you intend to keep using it for the data drift monitor scheduled runs or otherwise. If the minimum nodes are set to 0, it will scale down soon after jobs are completed, and scale up the next time the cluster is needed."
      ]
    },
    {
      "cell_type": "code",
      "execution_count": null,
      "metadata": {},
      "outputs": [],
      "source": [
        "# optionally delete the compute target\n",
        "#compute_target.delete()"
      ]
    },
    {
      "cell_type": "markdown",
      "metadata": {},
      "source": [
        "## Delete the DataDriftDetector\n",
        "\n",
        "Invoking the `delete()` method on the object deletes the the drift monitor permanently and cannot be undone. You will no longer be able to find it in the UI and the `list()` or `get()` methods. The object on which delete() was called will have its state set to deleted and name suffixed with deleted. The baseline and target datasets and model data that was collected, if any, are not deleted. The compute is not deleted. The DataDrift schedule pipeline is disabled and archived."
      ]
    },
    {
      "cell_type": "code",
      "execution_count": null,
      "metadata": {},
      "outputs": [],
      "source": [
        "monitor.delete()"
      ]
    },
    {
      "cell_type": "markdown",
      "metadata": {},
      "source": [
        "## Next steps\n",
        "\n",
        "  * See [our documentation](https://aka.ms/datadrift) or [Python SDK reference](https://docs.microsoft.com/python/api/overview/azure/ml/intro)\n",
        "  * [Send requests or feedback](mailto:driftfeedback@microsoft.com) on data drift directly to the team\n",
        "  * Please open issues with data drift here on GitHub or on StackOverflow if others are likely to run into the same issue"
      ]
    }
  ],
  "metadata": {
    "authors": [
      {
        "name": "jamgan"
      }
    ],
    "category": "tutorial",
    "compute": [
      "Remote"
    ],
    "datasets": [
      "NOAA"
    ],
    "deployment": [
      "None"
    ],
    "exclude_from_index": false,
    "framework": [
      "Azure ML"
    ],
    "friendly_name": "Data drift quickdemo",
    "index_order": 1,
    "interpreter": {
      "hash": "f7f364c9551711cd4699acda32e0312c3edab483ae246bf330de758088cecccb"
    },
    "kernelspec": {
      "display_name": "dlresearch",
      "language": "python",
      "name": "python3"
    },
    "language_info": {
      "codemirror_mode": {
        "name": "ipython",
        "version": 3
      },
      "file_extension": ".py",
      "mimetype": "text/x-python",
      "name": "python",
      "nbconvert_exporter": "python",
      "pygments_lexer": "ipython3",
      "version": "3.8.5"
    },
    "star_tag": [
      "featured"
    ],
    "tags": [
      "Dataset",
      "Timeseries",
      "Drift"
    ],
    "task": "Filtering"
  },
  "nbformat": 4,
  "nbformat_minor": 4
}
